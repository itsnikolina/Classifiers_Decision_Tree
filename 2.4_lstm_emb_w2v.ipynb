{
 "cells": [
  {
   "cell_type": "code",
   "execution_count": null,
   "metadata": {},
   "outputs": [],
   "source": [
    "# LOADING DATA"
   ]
  },
  {
   "cell_type": "code",
   "execution_count": 1,
   "metadata": {},
   "outputs": [
    {
     "name": "stdout",
     "output_type": "stream",
     "text": [
      "Loading data...\n",
      "\n"
     ]
    },
    {
     "data": {
      "text/html": [
       "<div>\n",
       "<style scoped>\n",
       "    .dataframe tbody tr th:only-of-type {\n",
       "        vertical-align: middle;\n",
       "    }\n",
       "\n",
       "    .dataframe tbody tr th {\n",
       "        vertical-align: top;\n",
       "    }\n",
       "\n",
       "    .dataframe thead th {\n",
       "        text-align: right;\n",
       "    }\n",
       "</style>\n",
       "<table border=\"1\" class=\"dataframe\">\n",
       "  <thead>\n",
       "    <tr style=\"text-align: right;\">\n",
       "      <th></th>\n",
       "      <th>Unnamed: 0</th>\n",
       "      <th>X</th>\n",
       "      <th>y</th>\n",
       "    </tr>\n",
       "  </thead>\n",
       "  <tbody>\n",
       "    <tr>\n",
       "      <th>0</th>\n",
       "      <td>22157</td>\n",
       "      <td>This product is impressive.  Silky smooth, ver...</td>\n",
       "      <td>1</td>\n",
       "    </tr>\n",
       "    <tr>\n",
       "      <th>1</th>\n",
       "      <td>19504</td>\n",
       "      <td>The key to using SLS free shampoo is to add wa...</td>\n",
       "      <td>1</td>\n",
       "    </tr>\n",
       "    <tr>\n",
       "      <th>2</th>\n",
       "      <td>23700</td>\n",
       "      <td>i know there is some bad reviews of this on he...</td>\n",
       "      <td>1</td>\n",
       "    </tr>\n",
       "    <tr>\n",
       "      <th>3</th>\n",
       "      <td>13943</td>\n",
       "      <td>My husband and I both tried this dandruff sham...</td>\n",
       "      <td>1</td>\n",
       "    </tr>\n",
       "    <tr>\n",
       "      <th>4</th>\n",
       "      <td>4219</td>\n",
       "      <td>This glue is really strong and dries extremely...</td>\n",
       "      <td>1</td>\n",
       "    </tr>\n",
       "  </tbody>\n",
       "</table>\n",
       "</div>"
      ],
      "text/plain": [
       "   Unnamed: 0                                                  X  y\n",
       "0       22157  This product is impressive.  Silky smooth, ver...  1\n",
       "1       19504  The key to using SLS free shampoo is to add wa...  1\n",
       "2       23700  i know there is some bad reviews of this on he...  1\n",
       "3       13943  My husband and I both tried this dandruff sham...  1\n",
       "4        4219  This glue is really strong and dries extremely...  1"
      ]
     },
     "execution_count": 1,
     "metadata": {},
     "output_type": "execute_result"
    }
   ],
   "source": [
    "import pandas as pd\n",
    "import numpy as np\n",
    "\n",
    "print('Loading data...\\n')\n",
    "df_train = pd.read_csv('Beauty_TRAIN.csv')\n",
    "df_test = pd.read_csv('Beauty_TEST.csv')\n",
    "df_train.head()"
   ]
  },
  {
   "cell_type": "code",
   "execution_count": 2,
   "metadata": {},
   "outputs": [
    {
     "name": "stdout",
     "output_type": "stream",
     "text": [
      "y\n",
      "0    1247\n",
      "1    8753\n",
      "dtype: int64\n",
      "y\n",
      "0     3742\n",
      "1    26258\n",
      "dtype: int64\n"
     ]
    }
   ],
   "source": [
    "print(df_train.groupby('y').size())\n",
    "print(df_test.groupby('y').size())"
   ]
  },
  {
   "cell_type": "code",
   "execution_count": null,
   "metadata": {},
   "outputs": [],
   "source": [
    "# slicing data "
   ]
  },
  {
   "cell_type": "code",
   "execution_count": 3,
   "metadata": {},
   "outputs": [
    {
     "name": "stdout",
     "output_type": "stream",
     "text": [
      "10000 \ttrain sequences\n",
      "30000 \ttest sequences\n",
      "( 2 \tclasses )\n"
     ]
    }
   ],
   "source": [
    "x_train = df_train['X']\n",
    "y_train = df_train['y']\n",
    "\n",
    "x_test = df_test['X']\n",
    "y_test = df_test['y']\n",
    "\n",
    "print(len(x_train), '\\ttrain sequences')\n",
    "print(len(x_test), '\\ttest sequences')\n",
    "num_classes = np.max(y_train) + 1\n",
    "print('(',num_classes, '\\tclasses )')"
   ]
  },
  {
   "cell_type": "code",
   "execution_count": null,
   "metadata": {},
   "outputs": [],
   "source": [
    "# PREPARING DATA"
   ]
  },
  {
   "cell_type": "code",
   "execution_count": 4,
   "metadata": {},
   "outputs": [
    {
     "name": "stdout",
     "output_type": "stream",
     "text": [
      "This product is impressive.  Silky smooth, very, very, light pleasant fragrance (almost undetectable), not oily or greasy, not drying.  Left my skin feeling clean, moist, and refreshed.  I have a difficult time finding products that do not irritate my skin.  This did not cause any irritation, itching, burning, redness... nothing.  Just clean.  I will most definitely be looking for this product on the market.\n"
     ]
    }
   ],
   "source": [
    "print(x_train[0]) #first sentence before tokenizing"
   ]
  },
  {
   "cell_type": "code",
   "execution_count": 5,
   "metadata": {
    "collapsed": true
   },
   "outputs": [],
   "source": [
    "#http://www.orbifold.net/default/2017/01/10/embedding-and-tokenizer-in-keras/"
   ]
  },
  {
   "cell_type": "code",
   "execution_count": 6,
   "metadata": {},
   "outputs": [
    {
     "name": "stderr",
     "output_type": "stream",
     "text": [
      "/home/centos/anaconda3/lib/python3.6/site-packages/h5py/__init__.py:34: FutureWarning: Conversion of the second argument of issubdtype from `float` to `np.floating` is deprecated. In future, it will be treated as `np.float64 == np.dtype(float).type`.\n",
      "  from ._conv import register_converters as _register_converters\n",
      "Using TensorFlow backend.\n"
     ]
    },
    {
     "name": "stdout",
     "output_type": "stream",
     "text": [
      "Performing the Sentences Tokenizer...\n",
      "19551\n",
      "\n",
      "First Sentence after tokenizing: [8, 22, 9, 2272, 474, 159, 28, 28, 132, 455, 263, 249, 6261, 19, 212, 29, 224, 19, 334, 293, 7, 24, 219, 146, 1185, 3, 1395, 1, 16, 5, 692, 66, 1209, 82, 12, 57, 19, 959, 7, 24, 8, 97, 19, 609, 91, 953, 1396, 1063, 924, 306, 33, 146, 1, 45, 186, 150, 31, 142, 11, 8, 22, 15, 2, 751]\n",
      "\n",
      "Performing the Pad sequences method...\n",
      "\n",
      "Dataset Preprocessing Completed:\n",
      "x_train shape: (10000, 100)\n",
      "x_test shape: (30000, 100)\n"
     ]
    }
   ],
   "source": [
    "from keras.preprocessing.text import Tokenizer\n",
    "from keras.preprocessing import sequence\n",
    "\n",
    "max_words = None\n",
    "maxlen = 100\n",
    "\n",
    "print('Performing the Sentences Tokenizer...')\n",
    "tokenizer = Tokenizer(num_words=max_words)\n",
    "\n",
    "tokenizer.fit_on_texts(x_train)\n",
    "#print(tokenizer.word_index)\n",
    "vocab_size=len(tokenizer.word_index)\n",
    "print(vocab_size)\n",
    "vocab_size=vocab_size+1\n",
    "\n",
    "#texts_to_sequences which turns input into numerical arrays\n",
    "sequences_train = tokenizer.texts_to_sequences(x_train)\n",
    "sequences_test = tokenizer.texts_to_sequences(x_test)\n",
    "\n",
    "print('\\nFirst Sentence after tokenizing:',sequences_train[0])\n",
    "\n",
    "print('\\n\\rPerforming the Pad sequences method...\\n\\r')\n",
    "x_train = sequence.pad_sequences(sequences_train, maxlen=maxlen)\n",
    "x_test = sequence.pad_sequences(sequences_test, maxlen=maxlen)\n",
    "\n",
    "print('Dataset Preprocessing Completed:\\r')\n",
    "print('x_train shape:', x_train.shape)\n",
    "print('x_test shape:', x_test.shape)\n",
    "\n",
    "y_train = np.array(y_train)\n",
    "y_test = np.array(y_test)"
   ]
  },
  {
   "cell_type": "code",
   "execution_count": 7,
   "metadata": {},
   "outputs": [
    {
     "data": {
      "text/plain": [
       "array([   0,    0,    0,    0,    0,    0,    0,    0,    0,    0,    0,\n",
       "          0,    0,    0,    0,    0,    0,    0,    0,    0,    0,    0,\n",
       "          0,    0,    0,    0,    0,    0,    0,    0,    0,    0,    0,\n",
       "          0,    0,    0,    8,   22,    9, 2272,  474,  159,   28,   28,\n",
       "        132,  455,  263,  249, 6261,   19,  212,   29,  224,   19,  334,\n",
       "        293,    7,   24,  219,  146, 1185,    3, 1395,    1,   16,    5,\n",
       "        692,   66, 1209,   82,   12,   57,   19,  959,    7,   24,    8,\n",
       "         97,   19,  609,   91,  953, 1396, 1063,  924,  306,   33,  146,\n",
       "          1,   45,  186,  150,   31,  142,   11,    8,   22,   15,    2,\n",
       "        751], dtype=int32)"
      ]
     },
     "execution_count": 7,
     "metadata": {},
     "output_type": "execute_result"
    }
   ],
   "source": [
    "x_train[0]"
   ]
  },
  {
   "cell_type": "code",
   "execution_count": 8,
   "metadata": {
    "collapsed": true
   },
   "outputs": [],
   "source": [
    "#LOAD WORD2VEC MODEL\n",
    "from gensim.models import KeyedVectors\n",
    "\n",
    "WORD2VEC_MODEL=\"/mnt/volume/GoogleNews-vectors-negative300.bin\"\n",
    "EMB_SIZE = 300\n",
    "\n",
    "word2vec = KeyedVectors.load_word2vec_format(WORD2VEC_MODEL, binary=True)"
   ]
  },
  {
   "cell_type": "code",
   "execution_count": 9,
   "metadata": {
    "collapsed": true
   },
   "outputs": [],
   "source": [
    "embedding_weights = np.zeros((vocab_size,EMB_SIZE))"
   ]
  },
  {
   "cell_type": "code",
   "execution_count": 10,
   "metadata": {
    "collapsed": true
   },
   "outputs": [],
   "source": [
    "#tokenizer.word_index.items()\n",
    "#embedding_weights.shape\n",
    "#word2vec.syn0.shape"
   ]
  },
  {
   "cell_type": "code",
   "execution_count": 11,
   "metadata": {
    "collapsed": true
   },
   "outputs": [],
   "source": [
    "for word, index in tokenizer.word_index.items():\n",
    "    try:\n",
    "        embedding_weights[index,:]= word2vec[word]\n",
    "    except KeyError:\n",
    "        pass"
   ]
  },
  {
   "cell_type": "code",
   "execution_count": 12,
   "metadata": {},
   "outputs": [
    {
     "data": {
      "text/plain": [
       "array([[ 0.        ,  0.        ,  0.        , ...,  0.        ,\n",
       "         0.        ,  0.        ],\n",
       "       [-0.22558594, -0.01953125,  0.09082031, ...,  0.02819824,\n",
       "        -0.17773438, -0.00604248],\n",
       "       [ 0.08007812,  0.10498047,  0.04980469, ...,  0.00366211,\n",
       "         0.04760742, -0.06884766],\n",
       "       ...,\n",
       "       [-0.03442383,  0.20605469,  0.22851562, ..., -0.31640625,\n",
       "         0.12109375,  0.4453125 ],\n",
       "       [ 0.30078125,  0.09423828, -0.08837891, ..., -0.22949219,\n",
       "         0.09863281,  0.07861328],\n",
       "       [ 0.0234375 ,  0.3359375 , -0.3203125 , ...,  0.22460938,\n",
       "         0.18847656, -0.04418945]])"
      ]
     },
     "execution_count": 12,
     "metadata": {},
     "output_type": "execute_result"
    }
   ],
   "source": [
    "embedding_weights#[114]"
   ]
  },
  {
   "cell_type": "code",
   "execution_count": 13,
   "metadata": {},
   "outputs": [
    {
     "data": {
      "text/plain": [
       "array([ 0.08886719,  0.09570312,  0.01477051,  0.06079102, -0.03759766,\n",
       "       -0.20703125,  0.00491333, -0.32421875,  0.14550781,  0.27539062,\n",
       "       -0.17675781, -0.03540039, -0.01220703,  0.02758789,  0.03271484,\n",
       "       -0.06152344,  0.0067749 ,  0.1484375 , -0.07617188, -0.13769531,\n",
       "        0.01867676,  0.06494141,  0.09521484, -0.00073624,  0.04858398,\n",
       "        0.0004158 , -0.25976562, -0.02709961,  0.03125   ,  0.09277344,\n",
       "        0.07714844,  0.0703125 , -0.09570312,  0.06884766, -0.03222656,\n",
       "        0.07958984, -0.16796875, -0.12597656,  0.10498047,  0.27734375,\n",
       "        0.10205078, -0.19238281,  0.03344727, -0.20996094, -0.09814453,\n",
       "       -0.04736328, -0.00817871, -0.109375  ,  0.15136719, -0.07568359,\n",
       "        0.06103516,  0.20410156, -0.19628906,  0.02111816, -0.234375  ,\n",
       "        0.07177734, -0.07275391,  0.03613281,  0.07763672, -0.14160156,\n",
       "       -0.01660156,  0.07177734, -0.04956055, -0.12207031, -0.00823975,\n",
       "        0.06176758, -0.05175781,  0.01989746,  0.10205078, -0.07324219,\n",
       "       -0.0625    ,  0.03125   ,  0.19042969,  0.07275391, -0.00436401,\n",
       "       -0.02563477,  0.17578125,  0.10253906, -0.16894531,  0.17285156,\n",
       "       -0.03112793, -0.15136719, -0.03515625, -0.08007812, -0.13183594,\n",
       "       -0.125     , -0.05322266,  0.00793457, -0.09472656,  0.16113281,\n",
       "        0.04614258,  0.06982422, -0.15625   , -0.20410156, -0.09912109,\n",
       "       -0.10595703, -0.10205078,  0.0006752 , -0.05712891,  0.15820312,\n",
       "        0.13964844, -0.13085938,  0.08935547, -0.11816406,  0.14355469,\n",
       "       -0.13183594, -0.04443359, -0.11083984,  0.06542969,  0.07519531,\n",
       "        0.06982422,  0.06152344,  0.06225586, -0.10400391, -0.02832031,\n",
       "        0.08886719, -0.00872803,  0.20019531,  0.03125   ,  0.06396484,\n",
       "       -0.12402344, -0.07080078, -0.02734375, -0.09570312,  0.01660156,\n",
       "        0.00747681, -0.15527344, -0.11279297, -0.01385498,  0.06152344,\n",
       "        0.07128906,  0.14257812, -0.16113281, -0.11523438,  0.00177002,\n",
       "       -0.01855469,  0.10205078, -0.10351562,  0.00325012,  0.08642578,\n",
       "        0.02062988, -0.02233887,  0.01330566,  0.02526855,  0.0065918 ,\n",
       "        0.03857422,  0.02502441,  0.08349609, -0.10009766,  0.08935547,\n",
       "        0.12695312, -0.05932617, -0.14355469, -0.09228516, -0.15234375,\n",
       "        0.17285156,  0.00692749,  0.04174805, -0.06982422,  0.03540039,\n",
       "       -0.25585938,  0.07324219,  0.08056641,  0.01074219, -0.01013184,\n",
       "        0.0016098 , -0.05883789,  0.02648926, -0.02783203,  0.05078125,\n",
       "       -0.05664062,  0.10546875, -0.08251953, -0.02355957, -0.01361084,\n",
       "       -0.10595703, -0.25195312,  0.00848389, -0.01672363,  0.18554688,\n",
       "       -0.07568359, -0.01531982,  0.04614258,  0.02978516, -0.00238037,\n",
       "        0.04296875,  0.07226562,  0.09863281,  0.06591797,  0.05102539,\n",
       "        0.16796875, -0.07714844, -0.0177002 , -0.00750732, -0.22363281,\n",
       "       -0.0189209 ,  0.02880859,  0.14355469,  0.00352478, -0.09326172,\n",
       "       -0.05517578,  0.02978516,  0.05737305,  0.09472656,  0.04760742,\n",
       "        0.12988281,  0.0559082 , -0.06152344,  0.00331116,  0.05249023,\n",
       "       -0.00072098, -0.08544922, -0.04760742,  0.06396484,  0.16894531,\n",
       "        0.0324707 , -0.0402832 , -0.08105469, -0.20703125,  0.07861328,\n",
       "       -0.05517578,  0.15234375, -0.03759766, -0.08691406,  0.1484375 ,\n",
       "       -0.12988281,  0.13085938, -0.07226562,  0.12597656, -0.02038574,\n",
       "        0.05883789, -0.2734375 ,  0.10839844, -0.00136566, -0.17675781,\n",
       "        0.03198242,  0.14746094,  0.01293945,  0.12890625,  0.16308594,\n",
       "       -0.08398438,  0.02172852,  0.18457031, -0.13085938, -0.12255859,\n",
       "       -0.07568359, -0.03540039, -0.00540161,  0.00726318,  0.08935547,\n",
       "        0.02050781, -0.01385498,  0.05908203,  0.01293945, -0.07519531,\n",
       "       -0.01434326,  0.11230469,  0.23828125, -0.10644531,  0.03979492,\n",
       "       -0.00817871,  0.17773438,  0.04345703, -0.0534668 ,  0.02807617,\n",
       "        0.17285156, -0.04052734,  0.08544922,  0.03588867, -0.02929688,\n",
       "        0.13476562,  0.00109863,  0.09228516, -0.08447266,  0.0612793 ,\n",
       "       -0.16113281, -0.19628906, -0.09960938,  0.04907227, -0.09814453,\n",
       "        0.02941895,  0.14257812,  0.02148438,  0.15136719,  0.08007812,\n",
       "        0.17480469, -0.12597656,  0.01403809,  0.01855469,  0.10839844,\n",
       "       -0.02050781,  0.109375  , -0.08642578,  0.02893066, -0.13769531,\n",
       "       -0.06494141, -0.05395508, -0.00637817, -0.19335938, -0.10058594])"
      ]
     },
     "execution_count": 13,
     "metadata": {},
     "output_type": "execute_result"
    }
   ],
   "source": [
    "embedding_weights[114]"
   ]
  },
  {
   "cell_type": "code",
   "execution_count": null,
   "metadata": {},
   "outputs": [],
   "source": [
    "# BUILD THE DL MODEL"
   ]
  },
  {
   "cell_type": "code",
   "execution_count": 14,
   "metadata": {},
   "outputs": [
    {
     "name": "stdout",
     "output_type": "stream",
     "text": [
      "Building the model...\n",
      "_________________________________________________________________\n",
      "Layer (type)                 Output Shape              Param #   \n",
      "=================================================================\n",
      "embedding_1 (Embedding)      (None, 100, 300)          5865600   \n",
      "_________________________________________________________________\n",
      "lstm_1 (LSTM)                (None, 128)               219648    \n",
      "_________________________________________________________________\n",
      "dense_1 (Dense)              (None, 1)                 129       \n",
      "=================================================================\n",
      "Total params: 6,085,377\n",
      "Trainable params: 6,085,377\n",
      "Non-trainable params: 0\n",
      "_________________________________________________________________\n",
      "None\n"
     ]
    }
   ],
   "source": [
    "from keras.models import Sequential\n",
    "from keras.layers import Dense, Dropout\n",
    "from keras.layers import Embedding\n",
    "from keras.layers import LSTM\n",
    "\n",
    "print('Building the model...')\n",
    "# define the model\n",
    "model = Sequential()\n",
    "emb = Embedding(vocab_size, output_dim = EMB_SIZE, input_length=maxlen, weights = [embedding_weights], trainable = True)\n",
    "model.add(emb)\n",
    "model.add(LSTM(128, dropout=0.7, recurrent_dropout=0.7))\n",
    "model.add(Dense(1, activation='sigmoid'))\n",
    "\n",
    "# compile the model\n",
    "model.compile(optimizer='rmsprop', loss='binary_crossentropy', metrics=['acc'])\n",
    "\n",
    "# summarize the model\n",
    "print(model.summary())"
   ]
  },
  {
   "cell_type": "code",
   "execution_count": 15,
   "metadata": {},
   "outputs": [
    {
     "name": "stdout",
     "output_type": "stream",
     "text": [
      "[array([[ 0.        ,  0.        ,  0.        , ...,  0.        ,\n",
      "         0.        ,  0.        ],\n",
      "       [-0.22558594, -0.01953125,  0.09082031, ...,  0.02819824,\n",
      "        -0.17773438, -0.00604248],\n",
      "       [ 0.08007812,  0.10498047,  0.04980469, ...,  0.00366211,\n",
      "         0.04760742, -0.06884766],\n",
      "       ...,\n",
      "       [-0.03442383,  0.20605469,  0.22851562, ..., -0.31640625,\n",
      "         0.12109375,  0.4453125 ],\n",
      "       [ 0.30078125,  0.09423828, -0.08837891, ..., -0.22949219,\n",
      "         0.09863281,  0.07861328],\n",
      "       [ 0.0234375 ,  0.3359375 , -0.3203125 , ...,  0.22460938,\n",
      "         0.18847656, -0.04418945]], dtype=float32)]\n"
     ]
    }
   ],
   "source": [
    "import numpy as np\n",
    "np.set_printoptions(suppress=True) \n",
    "\n",
    "emb.get_weights()#[0][0] #weights for the 1st word in the vocabulary"
   ]
  },
  {
   "cell_type": "code",
   "execution_count": 16,
   "metadata": {},
   "outputs": [
    {
     "name": "stdout",
     "output_type": "stream",
     "text": [
      "Train...\n",
      "Train on 8000 samples, validate on 2000 samples\n",
      "Epoch 1/20\n",
      "8000/8000 [==============================] - 74s 9ms/step - loss: 0.3699 - acc: 0.8721 - val_loss: 0.3140 - val_acc: 0.8795\n",
      "Epoch 2/20\n",
      "8000/8000 [==============================] - 74s 9ms/step - loss: 0.3152 - acc: 0.8799 - val_loss: 0.3144 - val_acc: 0.8865\n",
      "Epoch 3/20\n",
      "8000/8000 [==============================] - 73s 9ms/step - loss: 0.2782 - acc: 0.8939 - val_loss: 0.2626 - val_acc: 0.9045\n",
      "Epoch 4/20\n",
      "8000/8000 [==============================] - 64s 8ms/step - loss: 0.2491 - acc: 0.9009 - val_loss: 0.3047 - val_acc: 0.9025\n",
      "Epoch 5/20\n",
      "8000/8000 [==============================] - 69s 9ms/step - loss: 0.2316 - acc: 0.9145 - val_loss: 0.2875 - val_acc: 0.9065\n",
      "Epoch 6/20\n",
      "8000/8000 [==============================] - 73s 9ms/step - loss: 0.2159 - acc: 0.9147 - val_loss: 0.2779 - val_acc: 0.9120\n",
      "Epoch 7/20\n",
      "8000/8000 [==============================] - 74s 9ms/step - loss: 0.1946 - acc: 0.9251 - val_loss: 0.2654 - val_acc: 0.9115\n",
      "Epoch 8/20\n",
      "8000/8000 [==============================] - 75s 9ms/step - loss: 0.1820 - acc: 0.9310 - val_loss: 0.2378 - val_acc: 0.9165\n",
      "Epoch 9/20\n",
      "8000/8000 [==============================] - 73s 9ms/step - loss: 0.1675 - acc: 0.9353 - val_loss: 0.2313 - val_acc: 0.9130\n",
      "Epoch 10/20\n",
      "8000/8000 [==============================] - 73s 9ms/step - loss: 0.1529 - acc: 0.9429 - val_loss: 0.2295 - val_acc: 0.9145\n",
      "Epoch 11/20\n",
      "8000/8000 [==============================] - 73s 9ms/step - loss: 0.1455 - acc: 0.9469 - val_loss: 0.2469 - val_acc: 0.9130\n",
      "Epoch 12/20\n",
      "8000/8000 [==============================] - 74s 9ms/step - loss: 0.1349 - acc: 0.9487 - val_loss: 0.2452 - val_acc: 0.9185\n",
      "Epoch 13/20\n",
      "8000/8000 [==============================] - 74s 9ms/step - loss: 0.1263 - acc: 0.9544 - val_loss: 0.2590 - val_acc: 0.9235\n",
      "Epoch 14/20\n",
      "8000/8000 [==============================] - 74s 9ms/step - loss: 0.1203 - acc: 0.9560 - val_loss: 0.2580 - val_acc: 0.9175\n",
      "Epoch 15/20\n",
      "8000/8000 [==============================] - 73s 9ms/step - loss: 0.1058 - acc: 0.9623 - val_loss: 0.2688 - val_acc: 0.9040\n",
      "Epoch 16/20\n",
      "8000/8000 [==============================] - 74s 9ms/step - loss: 0.0969 - acc: 0.9656 - val_loss: 0.2953 - val_acc: 0.9190\n",
      "Epoch 17/20\n",
      "8000/8000 [==============================] - 74s 9ms/step - loss: 0.0909 - acc: 0.9671 - val_loss: 0.2815 - val_acc: 0.9175\n",
      "Epoch 18/20\n",
      "8000/8000 [==============================] - 74s 9ms/step - loss: 0.0848 - acc: 0.9716 - val_loss: 0.2760 - val_acc: 0.9165\n",
      "Epoch 19/20\n",
      "8000/8000 [==============================] - 73s 9ms/step - loss: 0.0820 - acc: 0.9714 - val_loss: 0.3081 - val_acc: 0.9090\n",
      "Epoch 20/20\n",
      "8000/8000 [==============================] - 70s 9ms/step - loss: 0.0747 - acc: 0.9743 - val_loss: 0.3334 - val_acc: 0.9170\n"
     ]
    }
   ],
   "source": [
    "print('Train...')\n",
    "history = model.fit(x_train, y_train, epochs=20, verbose=1, validation_split=0.2, batch_size= 32) "
   ]
  },
  {
   "cell_type": "code",
   "execution_count": 17,
   "metadata": {},
   "outputs": [
    {
     "name": "stdout",
     "output_type": "stream",
     "text": [
      "[array([[ 0.02440756, -0.03903417, -0.00518525, ...,  0.08685832,\n",
      "        -0.05258549, -0.04734365],\n",
      "       [-0.2753112 ,  0.05461533,  0.04278555, ...,  0.17745216,\n",
      "        -0.16960004,  0.00142124],\n",
      "       [ 0.02544442,  0.18263263,  0.03752789, ...,  0.06109501,\n",
      "         0.00423538, -0.02966677],\n",
      "       ...,\n",
      "       [-0.03442383,  0.20605469,  0.22851562, ..., -0.31640625,\n",
      "         0.12109375,  0.4453125 ],\n",
      "       [ 0.30078125,  0.09423828, -0.08837891, ..., -0.22949219,\n",
      "         0.09863281,  0.07861328],\n",
      "       [ 0.0234375 ,  0.3359375 , -0.3203125 , ...,  0.22460938,\n",
      "         0.18847656, -0.04418945]], dtype=float32)]\n"
     ]
    }
   ],
   "source": [
    "print(emb.get_weights())#[0][0] #weights for the 1st word in the vocabulary"
   ]
  },
  {
   "cell_type": "code",
   "execution_count": 18,
   "metadata": {},
   "outputs": [
    {
     "data": {
      "image/png": "[encoded data removed]",
      "text/plain": [
       "<matplotlib.figure.Figure at 0x7f02c01aa198>"
      ]
     },
     "metadata": {},
     "output_type": "display_data"
    },
    {
     "data": {
      "image/png": "[encoded data removed]",
      "text/plain": [
       "<matplotlib.figure.Figure at 0x7f029a656128>"
      ]
     },
     "metadata": {},
     "output_type": "display_data"
    }
   ],
   "source": [
    "from matplotlib import pyplot\n",
    "\n",
    "# plot train and validation loss\n",
    "pyplot.plot(history.history['loss'])\n",
    "pyplot.plot(history.history['val_loss'])\n",
    "pyplot.title('model train vs test loss')\n",
    "pyplot.ylabel('loss')\n",
    "pyplot.xlabel('epoch')\n",
    "pyplot.legend(['train', 'val'], loc='upper right')\n",
    "pyplot.show()\n",
    "\n",
    "# summarize history for accuracy\n",
    "pyplot.plot(history.history['acc'])\n",
    "pyplot.plot(history.history['val_acc'])\n",
    "pyplot.title('model accuracy')\n",
    "pyplot.ylabel('accuracy')\n",
    "pyplot.xlabel('epoch')\n",
    "pyplot.legend(['train', 'val'], loc='upper left')\n",
    "pyplot.show()"
   ]
  },
  {
   "cell_type": "code",
   "execution_count": 19,
   "metadata": {},
   "outputs": [
    {
     "name": "stdout",
     "output_type": "stream",
     "text": [
      "30000/30000 [==============================] - 34s 1ms/step\n",
      "ACCURACY 0.9193\n",
      "ROC_AUC 0.7428497218266514\n",
      "F1_SCORE 0.9549824280853121\n",
      "             precision    recall  f1-score   support\n",
      "\n",
      "          0       0.77      0.51      0.61      3742\n",
      "          1       0.93      0.98      0.95     26258\n",
      "\n",
      "avg / total       0.91      0.92      0.91     30000\n",
      "\n"
     ]
    }
   ],
   "source": [
    "#PREDICT\n",
    "y_pred = model.predict(x_test, verbose= 1, batch_size= 32)\n",
    "y_pred= y_pred.round().astype(int)\n",
    "y_test = y_test.astype(int)\n",
    "\n",
    "#PRINT OUT SOME METRICS\n",
    "from sklearn.metrics import accuracy_score\n",
    "from sklearn.metrics import roc_auc_score\n",
    "from sklearn.metrics import f1_score\n",
    "from sklearn.metrics import confusion_matrix, classification_report\n",
    "\n",
    "print('ACCURACY', accuracy_score(y_test, y_pred))\n",
    "print('ROC_AUC', roc_auc_score(y_test, y_pred))\n",
    "print(\"F1_SCORE\", f1_score(y_test, y_pred))\n",
    "\n",
    "print(classification_report(y_test, y_pred))"
   ]
  },
  {
   "cell_type": "code",
   "execution_count": 20,
   "metadata": {},
   "outputs": [
    {
     "data": {
      "image/png": "[encoded data removed]",
      "text/plain": [
       "<matplotlib.figure.Figure at 0x7f022b81a630>"
      ]
     },
     "metadata": {},
     "output_type": "display_data"
    }
   ],
   "source": [
    "import matplotlib.pyplot as plt\n",
    "from mlxtend.plotting import plot_confusion_matrix\n",
    "\n",
    "plot_confusion_matrix(confusion_matrix(y_test, y_pred))\n",
    "plt.show()"
   ]
  }
 ],
 "metadata": {
  "kernelspec": {
   "display_name": "Python 3",
   "language": "python",
   "name": "python3"
  },
  "language_info": {
   "codemirror_mode": {
    "name": "ipython",
    "version": 3
   },
   "file_extension": ".py",
   "mimetype": "text/x-python",
   "name": "python",
   "nbconvert_exporter": "python",
   "pygments_lexer": "ipython3",
   "version": "3.7.5"
  }
 },
 "nbformat": 4,
 "nbformat_minor": 2
}
