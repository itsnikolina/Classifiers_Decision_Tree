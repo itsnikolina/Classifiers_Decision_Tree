{
 "cells": [
  {
   "cell_type": "code",
   "execution_count": 1,
   "metadata": {},
   "outputs": [
    {
     "data": {
      "text/html": [
       "<style>.container { width:100% !important; }</style>"
      ],
      "text/plain": [
       "<IPython.core.display.HTML object>"
      ]
     },
     "metadata": {},
     "output_type": "display_data"
    }
   ],
   "source": [
    "from IPython.core.display import display, HTML\n",
    "display(HTML(\"<style>.container { width:100% !important; }</style>\"))"
   ]
  },
  {
   "cell_type": "markdown",
   "metadata": {},
   "source": [
    "# Tuning the parameters of a DecisionTreeClassifier"
   ]
  },
  {
   "cell_type": "code",
   "execution_count": 2,
   "metadata": {},
   "outputs": [],
   "source": [
    "'''\n",
    "The grid search provided by GridSearchCV exhaustively generates candidates \n",
    "from a grid of parameter values specified in a grid of values\n",
    "'''\n",
    "\n",
    "#IMPORTS\n",
    "#sklearn \n",
    "from sklearn.model_selection import GridSearchCV\n",
    "from sklearn.metrics import confusion_matrix, classification_report, precision_recall_fscore_support, roc_auc_score, accuracy_score, f1_score\n",
    "from sklearn.tree import DecisionTreeClassifier\n",
    "from sklearn.model_selection import train_test_split\n",
    "\n",
    "#plots\n",
    "from mlxtend.plotting import plot_decision_regions, plot_confusion_matrix\n",
    "from matplotlib import pyplot as plt\n",
    "\n",
    "import pandas as pd"
   ]
  },
  {
   "cell_type": "code",
   "execution_count": 3,
   "metadata": {},
   "outputs": [],
   "source": [
    "#IMPORT DATA\n",
    "df = pd.read_csv('diabetes.txt')\n",
    "df = df.as_matrix()\n",
    "X=df[:,0:-1] \n",
    "y=df[:,-1]"
   ]
  },
  {
   "cell_type": "code",
   "execution_count": 4,
   "metadata": {},
   "outputs": [],
   "source": [
    "#DEFINE CLASSIFIERS LIST AND PARAMETERS GRIDS\n",
    "\n",
    "classifier = DecisionTreeClassifier() #class_weight='balanced'\n",
    "parameters_DS = {'criterion':['gini','entropy'], 'min_samples_leaf':[10,20,30,50,60,70], 'max_depth':[3,5,10,None]} #If float, then min_samples_leaf is a percentage "
   ]
  },
  {
   "cell_type": "code",
   "execution_count": 5,
   "metadata": {},
   "outputs": [],
   "source": [
    "#SPLIT DATA INTO TRAINING/TEST SET 80-20%\n",
    "X_train, X_test, y_train, y_test = train_test_split(X, y, \n",
    "                                                    test_size=0.20, #by default is 75%-25%\n",
    "                                                    #shuffle is set True by default,\n",
    "                                                    stratify=y,\n",
    "                                                    random_state= 123) #fix random seed for replicability"
   ]
  },
  {
   "cell_type": "code",
   "execution_count": 6,
   "metadata": {
    "scrolled": false
   },
   "outputs": [
    {
     "name": "stdout",
     "output_type": "stream",
     "text": [
      "CLASSIFIER:  <class 'sklearn.tree.tree.DecisionTreeClassifier'>\n",
      "Wall time: 1.62 s\n",
      "\n",
      "\n",
      "***GRIDSEARCH RESULTS***\n",
      "Best score: 0.619712 using {'criterion': 'entropy', 'max_depth': 5, 'min_samples_leaf': 50}\n",
      "0.526243 (0.073026) with: {'criterion': 'gini', 'max_depth': 3, 'min_samples_leaf': 10}\n",
      "0.542650 (0.056162) with: {'criterion': 'gini', 'max_depth': 3, 'min_samples_leaf': 20}\n",
      "0.529866 (0.062007) with: {'criterion': 'gini', 'max_depth': 3, 'min_samples_leaf': 30}\n",
      "0.583135 (0.032803) with: {'criterion': 'gini', 'max_depth': 3, 'min_samples_leaf': 50}\n",
      "0.557001 (0.017518) with: {'criterion': 'gini', 'max_depth': 3, 'min_samples_leaf': 60}\n",
      "0.574601 (0.022868) with: {'criterion': 'gini', 'max_depth': 3, 'min_samples_leaf': 70}\n",
      "0.576274 (0.063507) with: {'criterion': 'gini', 'max_depth': 5, 'min_samples_leaf': 10}\n",
      "0.582837 (0.033760) with: {'criterion': 'gini', 'max_depth': 5, 'min_samples_leaf': 20}\n",
      "0.582974 (0.043504) with: {'criterion': 'gini', 'max_depth': 5, 'min_samples_leaf': 30}\n",
      "0.583135 (0.032803) with: {'criterion': 'gini', 'max_depth': 5, 'min_samples_leaf': 50}\n",
      "0.557001 (0.017518) with: {'criterion': 'gini', 'max_depth': 5, 'min_samples_leaf': 60}\n",
      "0.574601 (0.022868) with: {'criterion': 'gini', 'max_depth': 5, 'min_samples_leaf': 70}\n",
      "0.558682 (0.068052) with: {'criterion': 'gini', 'max_depth': 10, 'min_samples_leaf': 10}\n",
      "0.575023 (0.026886) with: {'criterion': 'gini', 'max_depth': 10, 'min_samples_leaf': 20}\n",
      "0.582974 (0.043504) with: {'criterion': 'gini', 'max_depth': 10, 'min_samples_leaf': 30}\n",
      "0.583135 (0.032803) with: {'criterion': 'gini', 'max_depth': 10, 'min_samples_leaf': 50}\n",
      "0.557001 (0.017518) with: {'criterion': 'gini', 'max_depth': 10, 'min_samples_leaf': 60}\n",
      "0.574601 (0.022868) with: {'criterion': 'gini', 'max_depth': 10, 'min_samples_leaf': 70}\n",
      "0.559861 (0.066987) with: {'criterion': 'gini', 'max_depth': None, 'min_samples_leaf': 10}\n",
      "0.583700 (0.037262) with: {'criterion': 'gini', 'max_depth': None, 'min_samples_leaf': 20}\n",
      "0.582974 (0.043504) with: {'criterion': 'gini', 'max_depth': None, 'min_samples_leaf': 30}\n",
      "0.583135 (0.032803) with: {'criterion': 'gini', 'max_depth': None, 'min_samples_leaf': 50}\n",
      "0.557001 (0.017518) with: {'criterion': 'gini', 'max_depth': None, 'min_samples_leaf': 60}\n",
      "0.574601 (0.022868) with: {'criterion': 'gini', 'max_depth': None, 'min_samples_leaf': 70}\n",
      "0.557581 (0.082692) with: {'criterion': 'entropy', 'max_depth': 3, 'min_samples_leaf': 10}\n",
      "0.567251 (0.060389) with: {'criterion': 'entropy', 'max_depth': 3, 'min_samples_leaf': 20}\n",
      "0.567251 (0.060389) with: {'criterion': 'entropy', 'max_depth': 3, 'min_samples_leaf': 30}\n",
      "0.568280 (0.061669) with: {'criterion': 'entropy', 'max_depth': 3, 'min_samples_leaf': 50}\n",
      "0.514152 (0.025810) with: {'criterion': 'entropy', 'max_depth': 3, 'min_samples_leaf': 60}\n",
      "0.531751 (0.048892) with: {'criterion': 'entropy', 'max_depth': 3, 'min_samples_leaf': 70}\n",
      "0.606176 (0.044159) with: {'criterion': 'entropy', 'max_depth': 5, 'min_samples_leaf': 10}\n",
      "0.583274 (0.033203) with: {'criterion': 'entropy', 'max_depth': 5, 'min_samples_leaf': 20}\n",
      "0.594057 (0.028213) with: {'criterion': 'entropy', 'max_depth': 5, 'min_samples_leaf': 30}\n",
      "0.619712 (0.016095) with: {'criterion': 'entropy', 'max_depth': 5, 'min_samples_leaf': 50}\n",
      "0.546436 (0.026345) with: {'criterion': 'entropy', 'max_depth': 5, 'min_samples_leaf': 60}\n",
      "0.531751 (0.048892) with: {'criterion': 'entropy', 'max_depth': 5, 'min_samples_leaf': 70}\n",
      "0.582891 (0.060061) with: {'criterion': 'entropy', 'max_depth': 10, 'min_samples_leaf': 10}\n",
      "0.584137 (0.036748) with: {'criterion': 'entropy', 'max_depth': 10, 'min_samples_leaf': 20}\n",
      "0.594057 (0.028213) with: {'criterion': 'entropy', 'max_depth': 10, 'min_samples_leaf': 30}\n",
      "0.619712 (0.016095) with: {'criterion': 'entropy', 'max_depth': 10, 'min_samples_leaf': 50}\n",
      "0.546436 (0.026345) with: {'criterion': 'entropy', 'max_depth': 10, 'min_samples_leaf': 60}\n",
      "0.531751 (0.048892) with: {'criterion': 'entropy', 'max_depth': 10, 'min_samples_leaf': 70}\n",
      "0.588607 (0.065860) with: {'criterion': 'entropy', 'max_depth': None, 'min_samples_leaf': 10}\n",
      "0.569695 (0.020558) with: {'criterion': 'entropy', 'max_depth': None, 'min_samples_leaf': 20}\n",
      "0.594057 (0.028213) with: {'criterion': 'entropy', 'max_depth': None, 'min_samples_leaf': 30}\n",
      "0.619712 (0.016095) with: {'criterion': 'entropy', 'max_depth': None, 'min_samples_leaf': 50}\n",
      "0.538044 (0.016849) with: {'criterion': 'entropy', 'max_depth': None, 'min_samples_leaf': 60}\n",
      "0.531751 (0.048892) with: {'criterion': 'entropy', 'max_depth': None, 'min_samples_leaf': 70}\n",
      "\n",
      "\n",
      "***RESULTS ON TEST SET***\n",
      "accuracy_score 0.7857142857142857\n",
      "f1_score 0.6857142857142857\n",
      "roc_auc_score 0.7583333333333333\n",
      "\n",
      "\n",
      "             precision    recall  f1-score   support\n",
      "\n",
      "        0.0       0.83      0.85      0.84       100\n",
      "        1.0       0.71      0.67      0.69        54\n",
      "\n",
      "avg / total       0.78      0.79      0.78       154\n",
      "\n",
      "\n",
      "\n"
     ]
    },
    {
     "data": {
      "image/png": "[encoded data removed]",
      "text/plain": [
       "<matplotlib.figure.Figure at 0x176833bb438>"
      ]
     },
     "metadata": {},
     "output_type": "display_data"
    }
   ],
   "source": [
    "#GRIDSEARCH on TRAIN with CV=3 and scoring=accuracy \n",
    "\n",
    "#gridsearch the best params and retrain on all training set \n",
    "print('CLASSIFIER: ', str(type(classifier)))\n",
    "\n",
    "#defining a gridsearch\n",
    "gs = GridSearchCV(classifier, parameters_DS, cv=3, scoring = 'f1', verbose=0, n_jobs=-1, refit=True)\n",
    "# GS uses a Stratified K-Folds cross-validator: The folds are made by preserving the percentage of samples for each class.\n",
    "# if refit=True the model is retrained on the whole training set with the best found params\n",
    "\n",
    "%time gs = gs.fit(X_train, y_train)\n",
    "print('\\n')\n",
    "\n",
    "# summarize results\n",
    "print('***GRIDSEARCH RESULTS***')\n",
    "print(\"Best score: %f using %s\" % (gs.best_score_, gs.best_params_))\n",
    "means = gs.cv_results_['mean_test_score']\n",
    "stds = gs.cv_results_['std_test_score']\n",
    "params = gs.cv_results_['params']\n",
    "for mean, stdev, param in zip(means, stds, params):\n",
    "    print(\"%f (%f) with: %r\" % (mean, stdev, param))\n",
    "print('\\n')\n",
    "\n",
    "#test on test set\n",
    "best_model = gs.best_estimator_\n",
    "y_pred = best_model.predict(X_test)\n",
    "\n",
    "#print out some metrics\n",
    "print('***RESULTS ON TEST SET***')\n",
    "print(\"accuracy_score\",accuracy_score(y_test, y_pred))\n",
    "print(\"f1_score\", f1_score(y_test, y_pred))\n",
    "print(\"roc_auc_score\",roc_auc_score(y_test, y_pred))\n",
    "print('\\n')\n",
    "\n",
    "print(classification_report(y_test, y_pred))\n",
    "print('\\n')\n",
    "plot_confusion_matrix(confusion_matrix(y_test, y_pred))\n",
    "plt.show() "
   ]
  }
 ],
 "metadata": {
  "kernelspec": {
   "display_name": "Python 3",
   "language": "python",
   "name": "python3"
  },
  "language_info": {
   "codemirror_mode": {
    "name": "ipython",
    "version": 3
   },
   "file_extension": ".py",
   "mimetype": "text/x-python",
   "name": "python",
   "nbconvert_exporter": "python",
   "pygments_lexer": "ipython3",
   "version": "3.6.4"
  }
 },
 "nbformat": 4,
 "nbformat_minor": 2
}
