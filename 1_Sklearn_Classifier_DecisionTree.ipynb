{
 "cells": [
  {
   "cell_type": "code",
   "execution_count": null,
   "metadata": {
    "scrolled": true
   },
   "outputs": [],
   "source": [
    "import pandas as pd\n",
    "df = pd.read_csv('diabetes.txt')\n",
    "\n",
    "#save the feature list into a vector and print it\n",
    "features=list(df.columns.values)\n",
    "print(features)\n",
    "\n",
    "# slicing the dataframe EXPL_VARs/TARGET\n",
    "import numpy as np\n",
    "df = df.as_matrix()\n",
    "x=df[:,0:-1] \n",
    "y=df[:,-1]\n",
    "\n",
    "np.set_printoptions(suppress=True) #suppress scientific notation"
   ]
  },
  {
   "cell_type": "code",
   "execution_count": null,
   "metadata": {},
   "outputs": [],
   "source": [
    "from sklearn.model_selection import train_test_split\n",
    "\n",
    "# Split data into training and test sets\n",
    "X_train, X_test, y_train, y_test = train_test_split(x, y, \n",
    "                                                    test_size =0.33, #by default is 75%-25%\n",
    "                                                    #shuffle is set True by default,\n",
    "                                                    stratify=y,\n",
    "                                                    random_state= 123) #fix random seed for replicability\n",
    "\n",
    "from sklearn.metrics import accuracy_score, recall_score, f1_score, roc_auc_score\n",
    "import pandas as pd\n",
    "import numpy as np\n",
    "from sklearn import tree\n",
    "\n",
    "tree_clf = tree.DecisionTreeClassifier(criterion=\"entropy\",\n",
    "                                       max_depth=4,\n",
    "                                       min_samples_split=30,\n",
    "                                       max_leaf_nodes=100,\n",
    "                                       min_weight_fraction_leaf=0,\n",
    "                                       min_samples_leaf=2,\n",
    "                                       class_weight=None)\n",
    "\n",
    "tree_clf = tree_clf.fit(X_train, y_train)"
   ]
  },
  {
   "cell_type": "code",
   "execution_count": null,
   "metadata": {},
   "outputs": [],
   "source": [
    "y_pred = tree_clf.predict(X_test)"
   ]
  },
  {
   "cell_type": "code",
   "execution_count": null,
   "metadata": {},
   "outputs": [],
   "source": [
    "#print out some evaluation metrics\n",
    "print(\"accuracy_score\",accuracy_score(y_test, y_pred))\n",
    "print(\"f1_score\", f1_score(y_test, y_pred))\n",
    "print(\"roc_auc_score\",roc_auc_score(y_test, y_pred))"
   ]
  },
  {
   "cell_type": "code",
   "execution_count": null,
   "metadata": {},
   "outputs": [],
   "source": [
    "import pydot\n",
    "from sklearn.externals.six import StringIO\n",
    "\n",
    "tree.export_graphviz(tree_clf,\n",
    "                     feature_names=features[0:-1],\n",
    "                     filled=True,\n",
    "                     rounded=True,\n",
    "                     precision=3, out_file='tree.dot')"
   ]
  },
  {
   "cell_type": "code",
   "execution_count": null,
   "metadata": {},
   "outputs": [],
   "source": [
    "%%cmd # use %%bash if Linux user\n",
    "dot -Tpdf tree.dot -o tree.pdf"
   ]
  },
  {
   "cell_type": "code",
   "execution_count": null,
   "metadata": {},
   "outputs": [],
   "source": [
    "dot_data = StringIO()\n",
    "tree.export_graphviz(tree_clf,\n",
    "                     feature_names=features[0:-1],\n",
    "                     filled=True,\n",
    "                     rounded=True,\n",
    "                     precision=3, out_file=dot_data)\n",
    "graph = pydot.graph_from_dot_data(dot_data.getvalue())\n",
    "graph[0].write_pdf(\"tree_2.pdf\")"
   ]
  },
  {
   "cell_type": "code",
   "execution_count": null,
   "metadata": {},
   "outputs": [],
   "source": []
  }
 ],
 "metadata": {
  "kernelspec": {
   "display_name": "Python 3",
   "language": "python",
   "name": "python3"
  },
  "language_info": {
   "codemirror_mode": {
    "name": "ipython",
    "version": 3
   },
   "file_extension": ".py",
   "mimetype": "text/x-python",
   "name": "python",
   "nbconvert_exporter": "python",
   "pygments_lexer": "ipython3",
   "version": "3.7.5"
  }
 },
 "nbformat": 4,
 "nbformat_minor": 2
}
