{
 "cells": [
  {
   "cell_type": "code",
   "execution_count": 1,
   "metadata": {
    "scrolled": true
   },
   "outputs": [
    {
     "name": "stdout",
     "output_type": "stream",
     "text": [
      "Loading data...\n",
      "\n"
     ]
    },
    {
     "data": {
      "text/html": [
       "<div>\n",
       "<style scoped>\n",
       "    .dataframe tbody tr th:only-of-type {\n",
       "        vertical-align: middle;\n",
       "    }\n",
       "\n",
       "    .dataframe tbody tr th {\n",
       "        vertical-align: top;\n",
       "    }\n",
       "\n",
       "    .dataframe thead th {\n",
       "        text-align: right;\n",
       "    }\n",
       "</style>\n",
       "<table border=\"1\" class=\"dataframe\">\n",
       "  <thead>\n",
       "    <tr style=\"text-align: right;\">\n",
       "      <th></th>\n",
       "      <th>Unnamed: 0</th>\n",
       "      <th>X</th>\n",
       "      <th>y</th>\n",
       "    </tr>\n",
       "  </thead>\n",
       "  <tbody>\n",
       "    <tr>\n",
       "      <th>0</th>\n",
       "      <td>22157</td>\n",
       "      <td>This product is impressive.  Silky smooth, ver...</td>\n",
       "      <td>1</td>\n",
       "    </tr>\n",
       "    <tr>\n",
       "      <th>1</th>\n",
       "      <td>19504</td>\n",
       "      <td>The key to using SLS free shampoo is to add wa...</td>\n",
       "      <td>1</td>\n",
       "    </tr>\n",
       "    <tr>\n",
       "      <th>2</th>\n",
       "      <td>23700</td>\n",
       "      <td>i know there is some bad reviews of this on he...</td>\n",
       "      <td>1</td>\n",
       "    </tr>\n",
       "    <tr>\n",
       "      <th>3</th>\n",
       "      <td>13943</td>\n",
       "      <td>My husband and I both tried this dandruff sham...</td>\n",
       "      <td>1</td>\n",
       "    </tr>\n",
       "    <tr>\n",
       "      <th>4</th>\n",
       "      <td>4219</td>\n",
       "      <td>This glue is really strong and dries extremely...</td>\n",
       "      <td>1</td>\n",
       "    </tr>\n",
       "  </tbody>\n",
       "</table>\n",
       "</div>"
      ],
      "text/plain": [
       "   Unnamed: 0                                                  X  y\n",
       "0       22157  This product is impressive.  Silky smooth, ver...  1\n",
       "1       19504  The key to using SLS free shampoo is to add wa...  1\n",
       "2       23700  i know there is some bad reviews of this on he...  1\n",
       "3       13943  My husband and I both tried this dandruff sham...  1\n",
       "4        4219  This glue is really strong and dries extremely...  1"
      ]
     },
     "execution_count": 1,
     "metadata": {},
     "output_type": "execute_result"
    }
   ],
   "source": [
    "import pandas as pd\n",
    "import numpy as np\n",
    "\n",
    "print('Loading data...\\n')\n",
    "df_train = pd.read_csv('Beauty_TRAIN.csv')\n",
    "df_test = pd.read_csv('Beauty_TEST.csv')\n",
    "df_train.head()"
   ]
  },
  {
   "cell_type": "code",
   "execution_count": null,
   "metadata": {},
   "outputs": [],
   "source": [
    "# slicing data "
   ]
  },
  {
   "cell_type": "code",
   "execution_count": 2,
   "metadata": {
    "scrolled": true
   },
   "outputs": [
    {
     "name": "stdout",
     "output_type": "stream",
     "text": [
      "10000 \ttrain sequences\n",
      "30000 \ttest sequences\n",
      "( 2 \tclasses )\n"
     ]
    }
   ],
   "source": [
    "x_train = df_train['X']\n",
    "y_train = df_train['y']\n",
    "\n",
    "x_test = df_test['X']\n",
    "y_test = df_test['y']\n",
    "\n",
    "print(len(x_train), '\\ttrain sequences')\n",
    "print(len(x_test), '\\ttest sequences')\n",
    "num_classes = np.max(y_train) + 1\n",
    "print('(',num_classes, '\\tclasses )')"
   ]
  },
  {
   "cell_type": "code",
   "execution_count": null,
   "metadata": {},
   "outputs": [],
   "source": [
    "# PREPARING DATA"
   ]
  },
  {
   "cell_type": "code",
   "execution_count": 3,
   "metadata": {
    "scrolled": true
   },
   "outputs": [
    {
     "name": "stdout",
     "output_type": "stream",
     "text": [
      "This product is impressive.  Silky smooth, very, very, light pleasant fragrance (almost undetectable), not oily or greasy, not drying.  Left my skin feeling clean, moist, and refreshed.  I have a difficult time finding products that do not irritate my skin.  This did not cause any irritation, itching, burning, redness... nothing.  Just clean.  I will most definitely be looking for this product on the market.\n"
     ]
    }
   ],
   "source": [
    "print(x_train[0]) #first sentence before tokenizing"
   ]
  },
  {
   "cell_type": "code",
   "execution_count": 4,
   "metadata": {
    "collapsed": true,
    "scrolled": true
   },
   "outputs": [],
   "source": [
    "#http://www.orbifold.net/default/2017/01/10/embedding-and-tokenizer-in-keras/"
   ]
  },
  {
   "cell_type": "code",
   "execution_count": 5,
   "metadata": {
    "scrolled": true
   },
   "outputs": [
    {
     "name": "stderr",
     "output_type": "stream",
     "text": [
      "/home/centos/anaconda3/lib/python3.6/site-packages/h5py/__init__.py:34: FutureWarning: Conversion of the second argument of issubdtype from `float` to `np.floating` is deprecated. In future, it will be treated as `np.float64 == np.dtype(float).type`.\n",
      "  from ._conv import register_converters as _register_converters\n",
      "Using TensorFlow backend.\n"
     ]
    },
    {
     "name": "stdout",
     "output_type": "stream",
     "text": [
      "Performing the Sentences Tokenizer...\n",
      "19551\n",
      "\n",
      "First Sentence after tokenizing: [8, 22, 9, 2272, 474, 159, 28, 28, 132, 455, 263, 249, 6261, 19, 212, 29, 224, 19, 334, 293, 7, 24, 219, 146, 1185, 3, 1395, 1, 16, 5, 692, 66, 1209, 82, 12, 57, 19, 959, 7, 24, 8, 97, 19, 609, 91, 953, 1396, 1063, 924, 306, 33, 146, 1, 45, 186, 150, 31, 142, 11, 8, 22, 15, 2, 751]\n",
      "\n",
      "Performing the Pad sequences method...\n",
      "\n",
      "Dataset Preprocessing Completed:\n",
      "x_train shape: (10000, 100)\n",
      "x_test shape: (30000, 100)\n"
     ]
    }
   ],
   "source": [
    "from keras.preprocessing.text import Tokenizer\n",
    "from keras.preprocessing import sequence\n",
    "\n",
    "max_words = None\n",
    "maxlen = 100\n",
    "\n",
    "print('Performing the Sentences Tokenizer...')\n",
    "tokenizer = Tokenizer(num_words=max_words)\n",
    "tokenizer.fit_on_texts(x_train)\n",
    "#print(tokenizer.word_index)\n",
    "vocab_size=len(tokenizer.word_index)\n",
    "print(vocab_size)\n",
    "\n",
    "#texts_to_sequences which turns input into numerical arrays\n",
    "sequences_train = tokenizer.texts_to_sequences(x_train)\n",
    "sequences_test = tokenizer.texts_to_sequences(x_test)\n",
    "\n",
    "print('\\nFirst Sentence after tokenizing:', sequences_train[0])\n",
    "\n",
    "print('\\n\\rPerforming the Pad sequences method...\\n\\r')\n",
    "x_train = sequence.pad_sequences(sequences_train, maxlen=maxlen)\n",
    "x_test = sequence.pad_sequences(sequences_test, maxlen=maxlen)\n",
    "\n",
    "print('Dataset Preprocessing Completed:\\r')\n",
    "print('x_train shape:', x_train.shape)\n",
    "print('x_test shape:', x_test.shape)\n",
    "\n",
    "y_train = np.array(y_train)\n",
    "y_test = np.array(y_test)"
   ]
  },
  {
   "cell_type": "code",
   "execution_count": 6,
   "metadata": {
    "scrolled": true
   },
   "outputs": [
    {
     "name": "stdout",
     "output_type": "stream",
     "text": [
      "[   0    0    0    0    0    0    0    0    0    0    0    0    0    0\n",
      "    0    0    0    0    0    0    0    0    0    0    0    0    0    0\n",
      "    0    0    0    0    0    0    0    0    8   22    9 2272  474  159\n",
      "   28   28  132  455  263  249 6261   19  212   29  224   19  334  293\n",
      "    7   24  219  146 1185    3 1395    1   16    5  692   66 1209   82\n",
      "   12   57   19  959    7   24    8   97   19  609   91  953 1396 1063\n",
      "  924  306   33  146    1   45  186  150   31  142   11    8   22   15\n",
      "    2  751]\n"
     ]
    }
   ],
   "source": [
    "print(x_train[0]) #first sentence transformed"
   ]
  },
  {
   "cell_type": "code",
   "execution_count": null,
   "metadata": {},
   "outputs": [],
   "source": [
    "# BUILD THE DL MODEL"
   ]
  },
  {
   "cell_type": "code",
   "execution_count": 7,
   "metadata": {
    "scrolled": true
   },
   "outputs": [
    {
     "name": "stdout",
     "output_type": "stream",
     "text": [
      "Building the model...\n",
      "_________________________________________________________________\n",
      "Layer (type)                 Output Shape              Param #   \n",
      "=================================================================\n",
      "embedding_1 (Embedding)      (None, 100, 300)          5865600   \n",
      "_________________________________________________________________\n",
      "lstm_1 (LSTM)                (None, 128)               219648    \n",
      "_________________________________________________________________\n",
      "dense_1 (Dense)              (None, 1)                 129       \n",
      "=================================================================\n",
      "Total params: 6,085,377\n",
      "Trainable params: 6,085,377\n",
      "Non-trainable params: 0\n",
      "_________________________________________________________________\n",
      "None\n"
     ]
    }
   ],
   "source": [
    "from keras.models import Sequential\n",
    "from keras.layers import Dense, Dropout\n",
    "from keras.layers import Embedding\n",
    "from keras.layers import LSTM\n",
    "from keras.optimizers import RMSprop\n",
    "\n",
    "print('Building the model...')\n",
    "# define the model\n",
    "model = Sequential()\n",
    "emb = Embedding(vocab_size+1, output_dim = 300, input_length=maxlen, trainable = True)\n",
    "model.add(emb)\n",
    "model.add(LSTM(128, dropout=0.7, recurrent_dropout=0.7))\n",
    "model.add(Dense(1, activation='sigmoid'))\n",
    "\n",
    "# compile the model\n",
    "model.compile(optimizer='rmsprop', loss='binary_crossentropy', metrics=['acc'])\n",
    "\n",
    "# summarize the model\n",
    "print(model.summary())"
   ]
  },
  {
   "cell_type": "code",
   "execution_count": 8,
   "metadata": {
    "scrolled": true
   },
   "outputs": [
    {
     "name": "stdout",
     "output_type": "stream",
     "text": [
      "[array([[-0.02565621, -0.02371781, -0.03780518, ...,  0.01122495,\n",
      "         0.02008227,  0.00145911],\n",
      "       [ 0.00031275,  0.03129255,  0.04404205, ..., -0.01601962,\n",
      "        -0.00953425,  0.03408343],\n",
      "       [-0.04345856,  0.02247432, -0.04045152, ..., -0.00817234,\n",
      "         0.02848491, -0.02027826],\n",
      "       ...,\n",
      "       [-0.02453475, -0.00517292,  0.04266715, ..., -0.01835157,\n",
      "        -0.01181165,  0.03685443],\n",
      "       [ 0.01144717, -0.00692578, -0.03909346, ...,  0.02242268,\n",
      "         0.02221498, -0.00917234],\n",
      "       [-0.00458147,  0.0378073 , -0.04798828, ..., -0.0443526 ,\n",
      "        -0.00408367, -0.02297223]], dtype=float32)]\n"
     ]
    }
   ],
   "source": [
    "import numpy as np\n",
    "np.set_printoptions(suppress=True) \n",
    "\n",
    "print(emb.get_weights())#[0][0] #weights for the 1st word in the vocabulary"
   ]
  },
  {
   "cell_type": "code",
   "execution_count": 9,
   "metadata": {
    "scrolled": true
   },
   "outputs": [
    {
     "name": "stdout",
     "output_type": "stream",
     "text": [
      "Train...\n",
      "Train on 8000 samples, validate on 2000 samples\n",
      "Epoch 1/15\n",
      "8000/8000 [==============================] - 74s 9ms/step - loss: 0.3782 - acc: 0.8728 - val_loss: 0.3189 - val_acc: 0.8835\n",
      "Epoch 2/15\n",
      "8000/8000 [==============================] - 73s 9ms/step - loss: 0.3077 - acc: 0.8808 - val_loss: 0.3001 - val_acc: 0.8930\n",
      "Epoch 3/15\n",
      "8000/8000 [==============================] - 74s 9ms/step - loss: 0.2724 - acc: 0.8964 - val_loss: 0.2762 - val_acc: 0.8985\n",
      "Epoch 4/15\n",
      "8000/8000 [==============================] - 74s 9ms/step - loss: 0.2489 - acc: 0.9050 - val_loss: 0.2986 - val_acc: 0.9045\n",
      "Epoch 5/15\n",
      "8000/8000 [==============================] - 72s 9ms/step - loss: 0.2242 - acc: 0.9137 - val_loss: 0.3444 - val_acc: 0.9055\n",
      "Epoch 6/15\n",
      "8000/8000 [==============================] - 73s 9ms/step - loss: 0.2098 - acc: 0.9220 - val_loss: 0.2972 - val_acc: 0.9070\n",
      "Epoch 7/15\n",
      "8000/8000 [==============================] - 73s 9ms/step - loss: 0.1874 - acc: 0.9275 - val_loss: 0.2796 - val_acc: 0.9075\n",
      "Epoch 8/15\n",
      "8000/8000 [==============================] - 74s 9ms/step - loss: 0.1660 - acc: 0.9377 - val_loss: 0.2520 - val_acc: 0.9070\n",
      "Epoch 9/15\n",
      "8000/8000 [==============================] - 73s 9ms/step - loss: 0.1460 - acc: 0.9469 - val_loss: 0.2516 - val_acc: 0.9045\n",
      "Epoch 10/15\n",
      "8000/8000 [==============================] - 74s 9ms/step - loss: 0.1350 - acc: 0.9512 - val_loss: 0.2757 - val_acc: 0.9075\n",
      "Epoch 11/15\n",
      "8000/8000 [==============================] - 74s 9ms/step - loss: 0.1210 - acc: 0.9572 - val_loss: 0.2678 - val_acc: 0.9095\n",
      "Epoch 12/15\n",
      "8000/8000 [==============================] - 73s 9ms/step - loss: 0.1141 - acc: 0.9595 - val_loss: 0.2775 - val_acc: 0.9070\n",
      "Epoch 13/15\n",
      "8000/8000 [==============================] - 74s 9ms/step - loss: 0.1032 - acc: 0.9632 - val_loss: 0.3043 - val_acc: 0.9035\n",
      "Epoch 14/15\n",
      "8000/8000 [==============================] - 74s 9ms/step - loss: 0.0961 - acc: 0.9659 - val_loss: 0.3161 - val_acc: 0.9060\n",
      "Epoch 15/15\n",
      "8000/8000 [==============================] - 73s 9ms/step - loss: 0.0939 - acc: 0.9691 - val_loss: 0.2997 - val_acc: 0.9015\n"
     ]
    }
   ],
   "source": [
    "print('Train...')\n",
    "history = model.fit(x_train, y_train, epochs=20, verbose=1, validation_split=0.2, batch_size= 32) "
   ]
  },
  {
   "cell_type": "code",
   "execution_count": 10,
   "metadata": {
    "scrolled": true
   },
   "outputs": [
    {
     "name": "stdout",
     "output_type": "stream",
     "text": [
      "[array([[-0.08284001,  0.00935731, -0.04834851, ..., -0.00960276,\n",
      "         0.06731198, -0.02160983],\n",
      "       [-0.11746065, -0.06093983,  0.18783915, ..., -0.12208262,\n",
      "         0.00380774,  0.11601885],\n",
      "       [-0.07929244, -0.03327496,  0.07801107, ..., -0.11997869,\n",
      "         0.0671185 ,  0.00012752],\n",
      "       ...,\n",
      "       [-0.02453475, -0.00517292,  0.04266715, ..., -0.01835157,\n",
      "        -0.01181165,  0.03685443],\n",
      "       [ 0.01144717, -0.00692578, -0.03909346, ...,  0.02242268,\n",
      "         0.02221498, -0.00917234],\n",
      "       [-0.00458147,  0.0378073 , -0.04798828, ..., -0.0443526 ,\n",
      "        -0.00408367, -0.02297223]], dtype=float32)]\n"
     ]
    }
   ],
   "source": [
    "print(emb.get_weights())#[0][0] #weights for the 1st word in the vocabulary"
   ]
  },
  {
   "cell_type": "code",
   "execution_count": 11,
   "metadata": {
    "scrolled": true
   },
   "outputs": [
    {
     "data": {
      "image/png": "[encoded data removed]",
      "text/plain": [
       "<matplotlib.figure.Figure at 0x7fc498dadeb8>"
      ]
     },
     "metadata": {},
     "output_type": "display_data"
    },
    {
     "data": {
      "image/png": "[encoded data removed]",
      "text/plain": [
       "<matplotlib.figure.Figure at 0x7fc417b48390>"
      ]
     },
     "metadata": {},
     "output_type": "display_data"
    }
   ],
   "source": [
    "from matplotlib import pyplot\n",
    "\n",
    "# plot train and validation loss\n",
    "pyplot.plot(history.history['loss'])\n",
    "pyplot.plot(history.history['val_loss'])\n",
    "pyplot.title('model train vs test loss')\n",
    "pyplot.ylabel('loss')\n",
    "pyplot.xlabel('epoch')\n",
    "pyplot.legend(['train', 'test'], loc='upper right')\n",
    "pyplot.show()\n",
    "\n",
    "# summarize history for accuracy\n",
    "pyplot.plot(history.history['acc'])\n",
    "pyplot.plot(history.history['val_acc'])\n",
    "pyplot.title('model accuracy')\n",
    "pyplot.ylabel('accuracy')\n",
    "pyplot.xlabel('epoch')\n",
    "pyplot.legend(['train', 'test'], loc='upper left')\n",
    "pyplot.show()"
   ]
  },
  {
   "cell_type": "code",
   "execution_count": 12,
   "metadata": {
    "scrolled": true
   },
   "outputs": [
    {
     "name": "stdout",
     "output_type": "stream",
     "text": [
      "30000/30000 [==============================] - 49s 2ms/step\n",
      "ACCURACY 0.9128666666666667\n",
      "ROC_AUC 0.7507468849482293\n",
      "F1_SCORE 0.951034017683201\n",
      "             precision    recall  f1-score   support\n",
      "\n",
      "          0       0.70      0.53      0.60      3742\n",
      "          1       0.94      0.97      0.95     26258\n",
      "\n",
      "avg / total       0.91      0.91      0.91     30000\n",
      "\n"
     ]
    }
   ],
   "source": [
    "#PREDICT\n",
    "y_pred = model.predict(x_test, verbose= 1, batch_size= 32)\n",
    "y_pred= y_pred.round().astype(int)\n",
    "y_test = y_test.astype(int)\n",
    "\n",
    "from sklearn.metrics import accuracy_score\n",
    "from sklearn.metrics import roc_auc_score\n",
    "from sklearn.metrics import f1_score\n",
    "from sklearn.metrics import confusion_matrix, classification_report\n",
    "\n",
    "print('ACCURACY', accuracy_score(y_test, y_pred))\n",
    "print('ROC_AUC', roc_auc_score(y_test, y_pred))\n",
    "print(\"F1_SCORE\", f1_score(y_test, y_pred))\n",
    "\n",
    "print(classification_report(y_test, y_pred))"
   ]
  },
  {
   "cell_type": "code",
   "execution_count": 13,
   "metadata": {
    "scrolled": true
   },
   "outputs": [
    {
     "data": {
      "image/png": "[encoded data removed]",
      "text/plain": [
       "<matplotlib.figure.Figure at 0x7fc41471f630>"
      ]
     },
     "metadata": {},
     "output_type": "display_data"
    }
   ],
   "source": [
    "import matplotlib.pyplot as plt\n",
    "from mlxtend.plotting import plot_confusion_matrix\n",
    "\n",
    "plot_confusion_matrix(confusion_matrix(y_test, y_pred))\n",
    "plt.show()"
   ]
  }
 ],
 "metadata": {
  "kernelspec": {
   "display_name": "Python 3",
   "language": "python",
   "name": "python3"
  },
  "language_info": {
   "codemirror_mode": {
    "name": "ipython",
    "version": 3
   },
   "file_extension": ".py",
   "mimetype": "text/x-python",
   "name": "python",
   "nbconvert_exporter": "python",
   "pygments_lexer": "ipython3",
   "version": "3.7.5"
  }
 },
 "nbformat": 4,
 "nbformat_minor": 2
}
